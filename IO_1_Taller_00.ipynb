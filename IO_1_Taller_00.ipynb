{
  "nbformat": 4,
  "nbformat_minor": 0,
  "metadata": {
    "colab": {
      "provenance": [],
      "toc_visible": true,
      "mount_file_id": "1kDUiXQdRgIoeHmAZoOSLHyeHS-MvvPEG",
      "authorship_tag": "ABX9TyPZS8X7DgEWokWeM3GTGAIz",
      "include_colab_link": true
    },
    "kernelspec": {
      "name": "python3",
      "display_name": "Python 3"
    },
    "language_info": {
      "name": "python"
    }
  },
  "cells": [
    {
      "cell_type": "markdown",
      "metadata": {
        "id": "view-in-github",
        "colab_type": "text"
      },
      "source": [
        "<a href=\"https://colab.research.google.com/github/Dian20rui/Clase-io-repositorio-actual/blob/main/IO_1_Taller_00.ipynb\" target=\"_parent\"><img src=\"https://colab.research.google.com/assets/colab-badge.svg\" alt=\"Open In Colab\"/></a>"
      ]
    },
    {
      "cell_type": "markdown",
      "source": [
        "#ejemplo 1\n"
      ],
      "metadata": {
        "id": "pbGSbSpinP6q"
      }
    },
    {
      "cell_type": "code",
      "source": [
        "# imprimir hola mundo\n",
        "print(\"hola mundo\")"
      ],
      "metadata": {
        "colab": {
          "base_uri": "https://localhost:8080/"
        },
        "id": "8Sb9kwFKnQeP",
        "outputId": "65eb1fe1-14ee-42b9-f789-67b9a61f65ae"
      },
      "execution_count": null,
      "outputs": [
        {
          "output_type": "stream",
          "name": "stdout",
          "text": [
            "hola mundo\n"
          ]
        }
      ]
    },
    {
      "cell_type": "markdown",
      "source": [],
      "metadata": {
        "id": "FZicAlilQLrM"
      }
    },
    {
      "cell_type": "markdown",
      "source": [
        "# Nuevo"
      ],
      "metadata": {
        "id": "M5CjbPKFQN4V"
      }
    }
  ]
}